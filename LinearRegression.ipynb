{
  "nbformat": 4,
  "nbformat_minor": 0,
  "metadata": {
    "colab": {
      "provenance": [],
      "include_colab_link": true
    },
    "kernelspec": {
      "name": "python3",
      "display_name": "Python 3"
    },
    "language_info": {
      "name": "python"
    }
  },
  "cells": [
    {
      "cell_type": "markdown",
      "metadata": {
        "id": "view-in-github",
        "colab_type": "text"
      },
      "source": [
        "<a href=\"https://colab.research.google.com/github/Mouna876/MachineLearning/blob/main/LinearRegression.ipynb\" target=\"_parent\"><img src=\"https://colab.research.google.com/assets/colab-badge.svg\" alt=\"Open In Colab\"/></a>"
      ]
    },
    {
      "cell_type": "code",
      "source": [
        "import pandas as pd\n",
        "import numpy as np\n",
        "from sklearn.datasets import make_regression\n",
        "from sklearn.model_selection import train_test_split, cross_val_score, RepeatedKFold\n",
        "from sklearn.feature_selection import SelectKBest, f_regression, mutual_info_regression\n",
        "from sklearn.linear_model import LinearRegression\n",
        "from sklearn.metrics import mean_absolute_error\n",
        "from sklearn.pipeline import Pipeline\n",
        "from sklearn.model_selection import GridSearchCV\n",
        "from matplotlib import pyplot\n",
        "\n",
        "data = pd.read_csv(\"/content/drive/MyDrive/Admission_Predict.csv\")\n",
        "\n",
        "X = data.drop(\"Chance of Admit\", axis=1)\n",
        "y = data[\"Chance of Admit\"]\n",
        "\n",
        "def select_features(X_train, y_train, X_test, method='f_regression', k='all'):\n",
        "    if method == 'f_regression':\n",
        "        fs = SelectKBest(score_func=f_regression, k=k)\n",
        "    elif method == 'mutual_info_regression':\n",
        "        fs = SelectKBest(score_func=mutual_info_regression, k=k)\n",
        "    else:\n",
        "        raise ValueError(\"Méthode non reconnue. Utilisez 'f_regression' ou 'mutual_info_regression'.\")\n",
        "\n",
        "    fs.fit(X_train, y_train)\n",
        "    X_train_fs = fs.transform(X_train)\n",
        "    X_test_fs = fs.transform(X_test)\n",
        "\n",
        "    return X_train_fs, X_test_fs, fs\n",
        "\n",
        "X_train, X_test, y_train, y_test = train_test_split(X, y, test_size=0.33, random_state=1)\n",
        "\n",
        "X_train_fs, X_test_fs, fs = select_features(X_train, y_train, X_test, method='f_regression', k='all')\n",
        "\n",
        "model = LinearRegression()\n",
        "model.fit(X_train_fs, y_train)\n",
        "\n",
        "yhat = model.predict(X_test_fs)\n",
        "\n",
        "mae = mean_absolute_error(y_test, yhat)\n",
        "print('MAE: %.3f' % mae)\n",
        "\n",
        "\n"
      ],
      "metadata": {
        "colab": {
          "base_uri": "https://localhost:8080/"
        },
        "id": "NX7ZR5ROYJMz",
        "outputId": "bd927204-bdb7-4a3a-ce0c-3e19862ecca1"
      },
      "execution_count": null,
      "outputs": [
        {
          "output_type": "stream",
          "name": "stdout",
          "text": [
            "MAE: 0.045\n"
          ]
        }
      ]
    },
    {
      "cell_type": "code",
      "source": [
        "cv = RepeatedKFold(n_splits=10, n_repeats=3, random_state=1)\n",
        "model = LinearRegression()\n",
        "fs = SelectKBest(score_func=mutual_info_regression)\n",
        "pipeline = Pipeline(steps=[('sel', fs), ('lr', model)])\n",
        "grid = dict()\n",
        "grid['sel__k'] = [i for i in range(max(1, X.shape[1] - 20), X.shape[1] + 1)]\n",
        "search = GridSearchCV(pipeline, grid, scoring='neg_mean_squared_error', n_jobs=-1, cv=cv)\n",
        "results = search.fit(X, y)\n",
        "print('Best MAE: %.3f' % results.best_score_)\n",
        "print('Best Config: %s' % results.best_params_)\n",
        "means = results.cv_results_['mean_test_score']\n",
        "params = results.cv_results_['params']\n",
        "for mean, param in zip(means, params):\n",
        "    print(\">%.3f with: %r\" % (mean, param))\n",
        "\n",
        "num_features = [i for i in range(1, min(X.shape[1] + 1, results.best_params_['sel__k'] + 1))]\n",
        "results = list()\n",
        "for k in num_features:\n",
        "    model = LinearRegression()\n",
        "    fs = SelectKBest(score_func=mutual_info_regression, k=k)\n",
        "    pipeline = Pipeline(steps=[('sel', fs), ('lr', model)])\n",
        "    cv = RepeatedKFold(n_splits=10, n_repeats=3, random_state=1)\n",
        "    scores = cross_val_score(pipeline, X, y, scoring='neg_mean_absolute_error', cv=cv, n_jobs=-1)\n",
        "    results.append(scores)\n",
        "    print('>%d %.3f (%.3f)' % (k, np.mean(scores), np.std(scores)))\n",
        "\n",
        "pyplot.boxplot(results, labels=num_features, showmeans=True)\n",
        "pyplot.show()"
      ],
      "metadata": {
        "colab": {
          "base_uri": "https://localhost:8080/",
          "height": 742
        },
        "id": "3GFO8A4wZs1I",
        "outputId": "cdbd67c7-5171-4e22-f04b-ca94616925aa"
      },
      "execution_count": null,
      "outputs": [
        {
          "output_type": "stream",
          "name": "stdout",
          "text": [
            "Best MAE: -0.004\n",
            "Best Config: {'sel__k': 8}\n",
            ">-0.004 with: {'sel__k': 1}\n",
            ">-0.004 with: {'sel__k': 2}\n",
            ">-0.004 with: {'sel__k': 3}\n",
            ">-0.004 with: {'sel__k': 4}\n",
            ">-0.004 with: {'sel__k': 5}\n",
            ">-0.004 with: {'sel__k': 6}\n",
            ">-0.004 with: {'sel__k': 7}\n",
            ">-0.004 with: {'sel__k': 8}\n",
            ">1 -0.049 (0.005)\n",
            ">2 -0.046 (0.006)\n",
            ">3 -0.045 (0.006)\n",
            ">4 -0.044 (0.006)\n",
            ">5 -0.044 (0.006)\n",
            ">6 -0.044 (0.006)\n",
            ">7 -0.043 (0.006)\n",
            ">8 -0.043 (0.006)\n"
          ]
        },
        {
          "output_type": "display_data",
          "data": {
            "text/plain": [
              "<Figure size 640x480 with 1 Axes>"
            ],
            "image/png": "[encoded data removed]"
          },
          "metadata": {}
        }
      ]
    }
  ]
}