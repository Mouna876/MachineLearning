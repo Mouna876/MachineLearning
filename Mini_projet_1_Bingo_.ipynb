{
  "nbformat": 4,
  "nbformat_minor": 0,
  "metadata": {
    "colab": {
      "provenance": [],
      "include_colab_link": true
    },
    "kernelspec": {
      "name": "python3",
      "display_name": "Python 3"
    },
    "language_info": {
      "name": "python"
    }
  },
  "cells": [
    {
      "cell_type": "markdown",
      "metadata": {
        "id": "view-in-github",
        "colab_type": "text"
      },
      "source": [
        "<a href=\"https://colab.research.google.com/github/Mouna876/MachineLearning/blob/main/Mini_projet_1_Bingo_.ipynb\" target=\"_parent\"><img src=\"https://colab.research.google.com/assets/colab-badge.svg\" alt=\"Open In Colab\"/></a>"
      ]
    },
    {
      "cell_type": "markdown",
      "source": [
        "# **Jeu de Bingo:**"
      ],
      "metadata": {
        "id": "bTDkhoUjft43"
      }
    },
    {
      "cell_type": "markdown",
      "source": [
        "# 1. Comment jouer ?:"
      ],
      "metadata": {
        "id": "te1vK6CUf5zN"
      }
    },
    {
      "cell_type": "markdown",
      "source": [
        "1. Chaque joueur reçoit une carte de Bingo avec une grille de numéros.\n",
        "\n",
        "2. Un animateur tire aléatoirement des nombres et les annonce.\n",
        "\n",
        "3. Les joueurs marquent les numéros annoncés sur leur carte.\n",
        "\n",
        "4. Le jeu continue jusqu'à ce qu'un joueur remplisse une ligne complète sur sa carte (horizontale, verticale ou diagonale).\n",
        "\n",
        "5. Le premier joueur à remplir une ligne crie \"Bingo !\" et remporte la partie.\n",
        "\n",
        "6. Les cartes des joueurs sont vérifiées pour confirmer la victoire.\n",
        "\n",
        "7. Le jeu peut se poursuivre avec de nouvelles cartes et de nouveaux tirages pour d'autres parties."
      ],
      "metadata": {
        "id": "vTArn4Bygcvg"
      }
    },
    {
      "cell_type": "markdown",
      "source": [
        "# 2. Modélisation Probabiliste"
      ],
      "metadata": {
        "id": "lOIOTz3Sg8r5"
      }
    },
    {
      "cell_type": "markdown",
      "source": [
        "# 2.1.\tExpérience Aléatoire et Espace Probabilisé:"
      ],
      "metadata": {
        "id": "g4prgTrnhJUW"
      }
    },
    {
      "cell_type": "markdown",
      "source": [
        "Dans le contexte du jeu de Bingo :\n",
        "\n",
        "1. **Expérience Aléatoire :** Chaque tour de jeu implique un tirage aléatoire d'un nombre par l'animateur. Chaque tirage est indépendant et aléatoire, sans influence des résultats précédents.\n",
        "\n",
        "2. **Espace Probabilisé :** C'est l'ensemble de tous les résultats possibles pour chaque tirage. Dans le Bingo traditionnel, l'espace probabilisé comprend les nombres de 1 à 75, chaque nombre ayant une probabilité égale d'être tiré à chaque tour (\\( \\frac{1}{75} \\))."
      ],
      "metadata": {
        "id": "WqbURVY4hKWr"
      }
    },
    {
      "cell_type": "markdown",
      "source": [
        "# 2.2.\tVariables Aléatoires et Loi de Probabilité:"
      ],
      "metadata": {
        "id": "duaJCSDUhhB5"
      }
    },
    {
      "cell_type": "markdown",
      "source": [
        "Dans le jeu de Bingo :\n",
        "\n",
        "1. **Variables Aléatoires :** Elles représentent le nombre de cases cochées sur la carte d'un joueur à chaque tirage. Chaque tirage peut augmenter le nombre de cases cochées d'un joueur.\n",
        "\n",
        "2. **Loi de Probabilité :** Dans un Bingo traditionnel, la loi de probabilité suit une distribution uniforme, ce qui signifie que chaque numéro a la même probabilité d'être tiré à chaque tour. Ainsi, la probabilité de cocher une case spécifique sur la carte d'un joueur est égale pour chaque case."
      ],
      "metadata": {
        "id": "YUaQVxvlhixw"
      }
    },
    {
      "cell_type": "markdown",
      "source": [
        "# 2.3.\tCalcul de Probabilités et d'Espérance:"
      ],
      "metadata": {
        "id": "IbjUTo4rhwhy"
      }
    },
    {
      "cell_type": "markdown",
      "source": [
        "Dans le jeu de Bingo :\n",
        "\n",
        "1. **Calcul de Probabilités :** Il détermine la probabilité pour un joueur de remplir une ligne complète sur sa carte à chaque tirage. Cela dépend du nombre de cases déjà cochées sur sa carte et du nombre total de cases restantes pour former une ligne.\n",
        "\n",
        "2. **Calcul d'Espérance :** Cela représente le nombre moyen de tirages nécessaires pour qu'un joueur remplisse une ligne complète sur sa carte. Il est calculé en prenant en compte les probabilités de remplir une ligne sur chaque tirage et en les combinant pour obtenir une moyenne pondérée."
      ],
      "metadata": {
        "id": "E_noIBuPiA42"
      }
    },
    {
      "cell_type": "markdown",
      "source": [
        "# 3. Code Python:"
      ],
      "metadata": {
        "id": "-sJeFdAViLFU"
      }
    },
    {
      "cell_type": "markdown",
      "source": [
        "# 3.1 Insertion des paramètres de Bingo:"
      ],
      "metadata": {
        "id": "FIRi9q5aiMN2"
      }
    },
    {
      "cell_type": "code",
      "execution_count": null,
      "metadata": {
        "colab": {
          "base_uri": "https://localhost:8080/"
        },
        "id": "bX-ZLBiWdgqf",
        "outputId": "d4a72784-5e4f-41ea-991c-2b240f256576"
      },
      "outputs": [
        {
          "output_type": "stream",
          "name": "stdout",
          "text": [
            "Espérance de la variable aléatoire binomiale : 30.0\n",
            "Variance de la variable aléatoire binomiale : 18.0\n"
          ]
        }
      ],
      "source": [
        "import matplotlib.pyplot as plt\n",
        "import numpy as np\n",
        "from scipy.stats import binom\n",
        "\n",
        "nombre_tours = 75  # Nombre total de nombres dans le Bingo\n",
        "nombre_appels = 30  # Nombre d'appels dans une partie de Bingo\n",
        "probabilite_succes = nombre_appels / nombre_tours  # Probabilité d'appeler un numéro spécifique\n",
        "\n",
        "rv_binomiale = binom(nombre_tours, probabilite_succes)\n",
        "k_values = np.arange(0, nombre_appels + 1)\n",
        "\n",
        "probabilites = rv_binomiale.pmf(k_values)\n",
        "\n",
        "esperance = rv_binomiale.mean()\n",
        "variance = rv_binomiale.var()\n",
        "print(\"Espérance de la variable aléatoire binomiale :\", esperance)\n",
        "print(\"Variance de la variable aléatoire binomiale :\", variance)\n"
      ]
    },
    {
      "cell_type": "markdown",
      "source": [
        "## 3.2 Affichage:"
      ],
      "metadata": {
        "id": "LuhtQ7pHiWSS"
      }
    },
    {
      "cell_type": "code",
      "source": [
        "plt.figure(figsize=(10, 6))\n",
        "plt.bar(k_values, probabilites, color='teal', alpha=0.7)\n",
        "plt.title('Distribution de probabilité pour le nombre d\\'appels dans une partie de Bingo')\n",
        "plt.xlabel('Nombre d\\'appels')\n",
        "plt.ylabel('Probabilité')\n",
        "plt.show()"
      ],
      "metadata": {
        "colab": {
          "base_uri": "https://localhost:8080/",
          "height": 565
        },
        "id": "nK2QTYjKdtfG",
        "outputId": "86540142-b961-473e-e9cc-4058e634a46e"
      },
      "execution_count": null,
      "outputs": [
        {
          "output_type": "display_data",
          "data": {
            "text/plain": [
              "<Figure size 1000x600 with 1 Axes>"
            ],
            "image/png": "[encoded data removed]"
          },
          "metadata": {}
        }
      ]
    },
    {
      "cell_type": "markdown",
      "source": [
        "## 3.3 Essayez le jeu:\n",
        "\n"
      ],
      "metadata": {
        "id": "L5lPCppQirOC"
      }
    },
    {
      "cell_type": "code",
      "source": [
        "import random\n",
        "\n",
        "class Bingo:\n",
        "    def __init__(self, num_players=1):\n",
        "        # Initialisation de la classe avec le nombre de joueurs et les structures de données nécessaires\n",
        "        self.num_players = num_players\n",
        "        self.players = {i: [] for i in range(1, num_players + 1)}  # Dictionnaire pour stocker les cartes des joueurs\n",
        "        self.called_numbers = set()  # Ensemble pour suivre les numéros déjà appelés\n",
        "\n",
        "    # Génère aléatoirement une carte de Bingo pour un joueur en évitant les doublons\n",
        "    def generate_card(self):\n",
        "        card = []\n",
        "        while len(card) < 25:  # Générer une carte avec 25 cases\n",
        "            num = random.randint(1, 75)\n",
        "            if num not in card:  # S'assurer qu'il n'y a pas de doublons\n",
        "                card.append(num)\n",
        "        return card\n",
        "\n",
        "    # Affiche la carte d'un joueur donné dans la console\n",
        "    def display_card(self, player):\n",
        "        print(\"Carte du Joueur\", player, \":\")\n",
        "        card = self.players[player]\n",
        "        for i in range(0, 25, 5):\n",
        "            print(card[i:i+5])\n",
        "\n",
        "    # Vérifie si un joueur donné a rempli sa carte en parcourant les lignes, colonnes et diagonales de sa carte\n",
        "    def check_card(self, player):\n",
        "        card = self.players[player]\n",
        "        for i in range(0, 25, 5):  # Vérifier les lignes\n",
        "            if all(num in self.called_numbers for num in card[i:i+5]):\n",
        "                return True\n",
        "        for i in range(5):  # Vérifier les colonnes\n",
        "            if all(card[j+i] in self.called_numbers for j in range(0, 25, 5)):\n",
        "                return True\n",
        "        # Vérifier les diagonales\n",
        "        if all(card[i] in self.called_numbers for i in range(0, 25, 6)) or \\\n",
        "           all(card[i] in self.called_numbers for i in range(4, 21, 4)):\n",
        "            return True\n",
        "        return False\n",
        "\n",
        "    # Simule le déroulement du jeu en générant les cartes pour chaque joueur, les affichant, appelant les numéros aléatoirement et vérifiant si un joueur a gagné à chaque tour\n",
        "    def play(self):\n",
        "        # Générer les cartes pour chaque joueur\n",
        "        for player in range(1, self.num_players + 1):\n",
        "            self.players[player] = self.generate_card()\n",
        "\n",
        "        # Afficher les cartes générées pour chaque joueur\n",
        "        print(\"Cartes générées pour chaque joueur:\")\n",
        "        for player in range(1, self.num_players + 1):\n",
        "            self.display_card(player)\n",
        "            print()\n",
        "\n",
        "        # Boucle principale du jeu\n",
        "        while True:\n",
        "            called_number = random.randint(1, 75)  # Simuler un numéro de Bingo appelé\n",
        "            print(\"Numéro appelé:\", called_number)\n",
        "            self.called_numbers.add(called_number)  # Ajouter le numéro appelé à l'ensemble des numéros déjà appelés\n",
        "\n",
        "            # Vérifier si un joueur a gagné\n",
        "            for player in range(1, self.num_players + 1):\n",
        "                if self.check_card(player):\n",
        "                    print(\"Le Joueur\", player, \"gagne!\")  # Afficher le joueur gagnant\n",
        "                    return  # Sortir de la méthode play() si un joueur a gagné\n",
        "\n",
        "# Lancer le jeu\n",
        "if __name__ == \"__main__\":\n",
        "    num_players = int(input(\"Entrez le nombre de joueurs: \"))  # Demander à l'utilisateur le nombre de joueurs\n",
        "    game = Bingo(num_players)  # Créer une instance du jeu de Bingo avec le nombre de joueurs spécifié\n",
        "    game.play()  # Démarrer le jeu\n"
      ],
      "metadata": {
        "colab": {
          "base_uri": "https://localhost:8080/"
        },
        "id": "UYvR3ENieFsZ",
        "outputId": "13af2174-7e26-4166-88b4-c74e4ade40c7"
      },
      "execution_count": null,
      "outputs": [
        {
          "output_type": "stream",
          "name": "stdout",
          "text": [
            "Entrez le nombre de joueurs: 2\n",
            "Cartes générées pour chaque joueur:\n",
            "Carte du Joueur 1 :\n",
            "[53, 50, 34, 74, 7]\n",
            "[58, 15, 31, 65, 46]\n",
            "[67, 64, 38, 68, 28]\n",
            "[48, 62, 72, 26, 61]\n",
            "[20, 63, 70, 6, 41]\n",
            "\n",
            "Carte du Joueur 2 :\n",
            "[1, 68, 46, 31, 19]\n",
            "[13, 54, 30, 66, 21]\n",
            "[6, 5, 33, 38, 48]\n",
            "[64, 24, 65, 71, 50]\n",
            "[4, 41, 23, 42, 37]\n",
            "\n",
            "Numéro appelé: 10\n",
            "Numéro appelé: 12\n",
            "Numéro appelé: 55\n",
            "Numéro appelé: 35\n",
            "Numéro appelé: 72\n",
            "Numéro appelé: 19\n",
            "Numéro appelé: 16\n",
            "Numéro appelé: 56\n",
            "Numéro appelé: 29\n",
            "Numéro appelé: 23\n",
            "Numéro appelé: 73\n",
            "Numéro appelé: 20\n",
            "Numéro appelé: 37\n",
            "Numéro appelé: 40\n",
            "Numéro appelé: 54\n",
            "Numéro appelé: 65\n",
            "Numéro appelé: 64\n",
            "Numéro appelé: 54\n",
            "Numéro appelé: 42\n",
            "Numéro appelé: 44\n",
            "Numéro appelé: 72\n",
            "Numéro appelé: 9\n",
            "Numéro appelé: 32\n",
            "Numéro appelé: 67\n",
            "Numéro appelé: 11\n",
            "Numéro appelé: 7\n",
            "Numéro appelé: 37\n",
            "Numéro appelé: 45\n",
            "Numéro appelé: 44\n",
            "Numéro appelé: 56\n",
            "Numéro appelé: 35\n",
            "Numéro appelé: 49\n",
            "Numéro appelé: 45\n",
            "Numéro appelé: 74\n",
            "Numéro appelé: 1\n",
            "Numéro appelé: 11\n",
            "Numéro appelé: 67\n",
            "Numéro appelé: 75\n",
            "Numéro appelé: 38\n",
            "Numéro appelé: 48\n",
            "Numéro appelé: 65\n",
            "Numéro appelé: 38\n",
            "Numéro appelé: 68\n",
            "Numéro appelé: 74\n",
            "Numéro appelé: 40\n",
            "Numéro appelé: 11\n",
            "Numéro appelé: 30\n",
            "Numéro appelé: 41\n",
            "Numéro appelé: 68\n",
            "Numéro appelé: 45\n",
            "Numéro appelé: 20\n",
            "Numéro appelé: 40\n",
            "Numéro appelé: 74\n",
            "Numéro appelé: 46\n",
            "Numéro appelé: 32\n",
            "Numéro appelé: 14\n",
            "Numéro appelé: 19\n",
            "Numéro appelé: 50\n",
            "Numéro appelé: 47\n",
            "Numéro appelé: 44\n",
            "Numéro appelé: 30\n",
            "Numéro appelé: 69\n",
            "Numéro appelé: 69\n",
            "Numéro appelé: 9\n",
            "Numéro appelé: 35\n",
            "Numéro appelé: 45\n",
            "Numéro appelé: 54\n",
            "Numéro appelé: 7\n",
            "Numéro appelé: 56\n",
            "Numéro appelé: 16\n",
            "Numéro appelé: 42\n",
            "Numéro appelé: 16\n",
            "Numéro appelé: 49\n",
            "Numéro appelé: 52\n",
            "Numéro appelé: 53\n",
            "Numéro appelé: 14\n",
            "Numéro appelé: 69\n",
            "Numéro appelé: 65\n",
            "Numéro appelé: 1\n",
            "Numéro appelé: 18\n",
            "Numéro appelé: 23\n",
            "Numéro appelé: 28\n",
            "Le Joueur 1 gagne!\n"
          ]
        }
      ]
    }
  ]
}